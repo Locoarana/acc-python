{
  "nbformat": 4,
  "nbformat_minor": 0,
  "metadata": {
    "kernelspec": {
      "display_name": "Python 3",
      "language": "python",
      "name": "python3"
    },
    "language_info": {
      "codemirror_mode": {
        "name": "ipython",
        "version": 3
      },
      "file_extension": ".py",
      "mimetype": "text/x-python",
      "name": "python",
      "nbconvert_exporter": "python",
      "pygments_lexer": "ipython3",
      "version": "3.8.5"
    },
    "colab": {
      "name": "03-Python-Basico-Ejercicios-Solucion-Sebastian-Arana.ipynb",
      "provenance": [],
      "collapsed_sections": []
    }
  },
  "cells": [
    {
      "cell_type": "markdown",
      "metadata": {
        "id": "yKOIEX97B4Hq"
      },
      "source": [
        "___\n",
        "\n",
        "<a href='https://jupyter-notebook.readthedocs.io/en/stable/examples/Notebook/Running%20Code.html'> <img src='https://www.python.org/static/img/python-logo.png' /></a>\n",
        "___\n",
        "# Python Basico - Ejercicios\n",
        "\n"
      ]
    },
    {
      "cell_type": "markdown",
      "metadata": {
        "id": "3GHTTk9fB4Ht"
      },
      "source": [
        "## Ejercicios\n",
        "\n",
        "Responda las preguntas o complete las tareas descritas en negrita a continuación, use el método específico descrito si corresponde."
      ]
    },
    {
      "cell_type": "markdown",
      "metadata": {
        "id": "SE-gMmXFB4Hu"
      },
      "source": [
        "** ¿Cuánto es 7 elevado a 4?**"
      ]
    },
    {
      "cell_type": "code",
      "metadata": {
        "colab": {
          "base_uri": "https://localhost:8080/"
        },
        "id": "eHuEI4oEB4Hv",
        "outputId": "edec94a7-3c8f-49fa-9b84-448342a5f790"
      },
      "source": [
        "print(7**4)"
      ],
      "execution_count": 1,
      "outputs": [
        {
          "output_type": "stream",
          "name": "stdout",
          "text": [
            "2401\n"
          ]
        }
      ]
    },
    {
      "cell_type": "markdown",
      "metadata": {
        "id": "M036AaiPB4Hx"
      },
      "source": [
        "** Divida esta cadena:**\n",
        "\n",
        "    s = \"Hola mi estimado!\"\n",
        "    \n",
        "**en una lista. **"
      ]
    },
    {
      "cell_type": "code",
      "metadata": {
        "id": "IJScsn4vB4Hx"
      },
      "source": [
        "s = \"Hola mi estimado!\""
      ],
      "execution_count": 3,
      "outputs": []
    },
    {
      "cell_type": "code",
      "metadata": {
        "colab": {
          "base_uri": "https://localhost:8080/"
        },
        "id": "v2RHzL6eB4Hx",
        "outputId": "e64b3c11-ae37-4eca-b717-652131227838"
      },
      "source": [
        "print(s.split())"
      ],
      "execution_count": 4,
      "outputs": [
        {
          "output_type": "stream",
          "name": "stdout",
          "text": [
            "['Hola', 'mi', 'estimado!']\n"
          ]
        }
      ]
    },
    {
      "cell_type": "markdown",
      "metadata": {
        "id": "tqrdeO22B4Hy"
      },
      "source": [
        "** Dadas las variables:**\n",
        "\n",
        "    planeta = \"Tierra\"\n",
        "    diametro = 12742\n",
        "\n",
        "** Use .format() para visualizar la siguente frase: **\n",
        "\n",
        "    El diametro de la Tierra es 12742 kilometros."
      ]
    },
    {
      "cell_type": "code",
      "metadata": {
        "id": "aV3JfnldB4Hy"
      },
      "source": [
        "planeta = \"Tierra\"\n",
        "diametro = 12742"
      ],
      "execution_count": 6,
      "outputs": []
    },
    {
      "cell_type": "code",
      "metadata": {
        "colab": {
          "base_uri": "https://localhost:8080/"
        },
        "id": "qPt2zqsVB4Hy",
        "outputId": "8d64f2ef-817d-4c30-d360-9218f6f5d96e"
      },
      "source": [
        "print('El diametro de la {} es {} kilometros.'.format(planeta, diametro))"
      ],
      "execution_count": 8,
      "outputs": [
        {
          "output_type": "stream",
          "name": "stdout",
          "text": [
            "El diametro de la Tierra es 12742 kilometros.\n"
          ]
        }
      ]
    },
    {
      "cell_type": "markdown",
      "metadata": {
        "id": "spjtDtMvB4Hz"
      },
      "source": [
        "** Dada esta lista anidada, use la indexación para obtener la palabra \"hola\"**"
      ]
    },
    {
      "cell_type": "code",
      "metadata": {
        "id": "Prjc2cF-B4Hz"
      },
      "source": [
        "lst = [1,2,[3,4],[5,[100,200,['hola']],23,11],1,7]"
      ],
      "execution_count": 9,
      "outputs": []
    },
    {
      "cell_type": "code",
      "metadata": {
        "colab": {
          "base_uri": "https://localhost:8080/"
        },
        "id": "l-fxI9siB4Hz",
        "outputId": "98646985-9fe0-4662-9da8-ddf241da3cc9"
      },
      "source": [
        "s = lst[3][1][2]\n",
        "print(s)"
      ],
      "execution_count": 14,
      "outputs": [
        {
          "output_type": "stream",
          "name": "stdout",
          "text": [
            "['hola']\n"
          ]
        }
      ]
    },
    {
      "cell_type": "markdown",
      "metadata": {
        "id": "2KLYuuM2B4H0"
      },
      "source": [
        "** Dado este diccionario nido, tome la palabra \"hola\". Esté preparado, esto será molesto / complicado  **"
      ]
    },
    {
      "cell_type": "code",
      "metadata": {
        "id": "8v6XMlNgB4H0"
      },
      "source": [
        "d = {'k1':[1,2,3,{'dificil':['oh','man','inicio',{'destino':[1,2,3,'hola']}]}]}"
      ],
      "execution_count": 16,
      "outputs": []
    },
    {
      "cell_type": "code",
      "metadata": {
        "colab": {
          "base_uri": "https://localhost:8080/"
        },
        "id": "V36BZAwFB4H0",
        "outputId": "d7a4df9b-aa72-48d1-8c82-8ab7231a89b0"
      },
      "source": [
        "ans = d['k1'][3]['dificil'][3]['destino'][3]\n",
        "print(ans)"
      ],
      "execution_count": 22,
      "outputs": [
        {
          "output_type": "stream",
          "name": "stdout",
          "text": [
            "hola\n"
          ]
        }
      ]
    },
    {
      "cell_type": "markdown",
      "metadata": {
        "id": "f5sFfEEBB4H0"
      },
      "source": [
        "** ¿Cuál es la principal diferencia entre una tupla y una lista? **"
      ]
    },
    {
      "cell_type": "code",
      "metadata": {
        "id": "Pxv8aKbKB4H0"
      },
      "source": [
        "#La tupla es inmutable, es decir no puedes indexar a la tupla y cambiarlo. \n",
        "#En cambio, la lista es mutable"
      ],
      "execution_count": 24,
      "outputs": []
    },
    {
      "cell_type": "markdown",
      "metadata": {
        "id": "YIJ9wCvnB4H1"
      },
      "source": [
        "** Cree una función que tome el dominio del sitio web de correo electrónico a partir de una cadena con el siguiente formato: **\n",
        "\n",
        "    user@dominio.com\n",
        "    \n",
        "**Entonces, por ejemplo, pasando \"user@domain.com\" retornaria: domain.com**"
      ]
    },
    {
      "cell_type": "code",
      "metadata": {
        "id": "neEy5QyPB4H1"
      },
      "source": [
        "def dominioGet(email):\n",
        "  return email.split('@')[1]"
      ],
      "execution_count": 25,
      "outputs": []
    },
    {
      "cell_type": "code",
      "metadata": {
        "colab": {
          "base_uri": "https://localhost:8080/",
          "height": 35
        },
        "id": "jU5yCSlqB4H1",
        "outputId": "c77885b6-63a2-4cdd-d5fb-a0a59cb6d7a8"
      },
      "source": [
        "dominioGet('user@dominio.com')"
      ],
      "execution_count": 26,
      "outputs": [
        {
          "output_type": "execute_result",
          "data": {
            "application/vnd.google.colaboratory.intrinsic+json": {
              "type": "string"
            },
            "text/plain": [
              "'dominio.com'"
            ]
          },
          "metadata": {},
          "execution_count": 26
        }
      ]
    },
    {
      "cell_type": "markdown",
      "metadata": {
        "id": "WZlPgHUoB4H2"
      },
      "source": [
        "** Cree una función básica que devuelva Verdadero si la palabra 'perro' está contenida en la cadena de entrada. No se preocupe por casos extremos como una puntuación que se adjunta a la palabra perro, pero tenga en cuenta las mayúsculas. **"
      ]
    },
    {
      "cell_type": "code",
      "metadata": {
        "id": "an-LPjVgB4H2"
      },
      "source": [
        "def ubicaDog(message):\n",
        "  message = message.lower()\n",
        "  if message.count('perro') >0:\n",
        "    return True\n",
        "  return False"
      ],
      "execution_count": 37,
      "outputs": []
    },
    {
      "cell_type": "code",
      "metadata": {
        "colab": {
          "base_uri": "https://localhost:8080/"
        },
        "id": "QtttqMJxB4H2",
        "outputId": "46ba3b01-667c-4509-8411-76edd86bfe62"
      },
      "source": [
        "ubicaDog('Esta el perro aqui?')"
      ],
      "execution_count": 40,
      "outputs": [
        {
          "output_type": "execute_result",
          "data": {
            "text/plain": [
              "True"
            ]
          },
          "metadata": {},
          "execution_count": 40
        }
      ]
    },
    {
      "cell_type": "markdown",
      "metadata": {
        "id": "00GlsZq4B4H2"
      },
      "source": [
        "** Cree una función que cuente el número de veces que aparece la palabra \"perro\" en una cadena. Nuevamente ignore los casos extremos. **"
      ]
    },
    {
      "cell_type": "code",
      "metadata": {
        "id": "ttWNbGzJB4H2"
      },
      "source": [
        "def cuentaDog(message):\n",
        "  message = message.lower()\n",
        "  return message.count('perro')"
      ],
      "execution_count": 41,
      "outputs": []
    },
    {
      "cell_type": "code",
      "metadata": {
        "colab": {
          "base_uri": "https://localhost:8080/"
        },
        "id": "CS2XQ9qHB4H2",
        "outputId": "53b91258-4403-4e7f-851f-cea90a18c246"
      },
      "source": [
        "cuentaDog('Este perro corre mas rapido que este otro perro no lo dudes!')"
      ],
      "execution_count": 44,
      "outputs": [
        {
          "output_type": "execute_result",
          "data": {
            "text/plain": [
              "2"
            ]
          },
          "metadata": {},
          "execution_count": 44
        }
      ]
    },
    {
      "cell_type": "markdown",
      "metadata": {
        "id": "KGTXocomB4H3"
      },
      "source": [
        "** Utilice expresiones lambda y la función filter () para filtrar las palabras de una lista que comiencen con la letra 's'. Por ejemplo:**\n",
        "\n",
        "    seq = ['sopa','perro','salida','gato','excelente']\n",
        "\n",
        "**debe filtrarse solo:**\n",
        "\n",
        "    ['sopa','salida']"
      ]
    },
    {
      "cell_type": "code",
      "metadata": {
        "id": "7AWV3TFZB4H3"
      },
      "source": [
        "seq = ['sopa','perro','salida','gato','excelente']"
      ],
      "execution_count": 35,
      "outputs": []
    },
    {
      "cell_type": "code",
      "metadata": {
        "colab": {
          "base_uri": "https://localhost:8080/"
        },
        "id": "-xcHILxGB4H3",
        "outputId": "0e467eb7-ceb1-4003-8f69-0ea82a911478"
      },
      "source": [
        "list(filter(lambda var: var[0] == 's', seq))"
      ],
      "execution_count": 50,
      "outputs": [
        {
          "output_type": "execute_result",
          "data": {
            "text/plain": [
              "['sopa', 'salida']"
            ]
          },
          "metadata": {},
          "execution_count": 50
        }
      ]
    },
    {
      "cell_type": "markdown",
      "metadata": {
        "id": "_p8HB_swB4H3"
      },
      "source": [
        "### Ejercicio Final\n",
        "**Conduces demasiado rápido y un policía te detiene. Escribe una función para devolver uno de los 3 resultados posibles: \"Sin papeleta\", \"Papeleta NO GRAVE\" o \"Papeleta GRAVE\".\n",
        "   Si tu velocidad es de 60 o menos, el resultado es \"Sin papeleta\". Si la velocidad está entre 61\n",
        "   y 80 inclusive, el resultado es \"Papeleta NO GRAVE\". Si la velocidad es 81 o más, el resultado es \"Papeleta GRAVE\". A menos que sea tu cumpleaños (codificado como un valor booleano en los parámetros de la función), en tu cumpleaños, la velocidad puede ser 5 más alta en total de casos. **"
      ]
    },
    {
      "cell_type": "code",
      "metadata": {
        "id": "jH8zEEfUB4H4"
      },
      "source": [
        "def calcula_velocidad(velocidad, es_mi_cumple):\n",
        "  t=0\n",
        "  if (es_mi_cumple): t=5\n",
        "\n",
        "  if (velocidad<60+t):\n",
        "    print(\"Sin papeleta\")\n",
        "  elif (velocidad>61 and velocidad<80+t):\n",
        "    print(\"Papeleta NO GRAVE\" )\n",
        "  else:\n",
        "    print(\"Papeleta GRAVE\")\n"
      ],
      "execution_count": 52,
      "outputs": []
    },
    {
      "cell_type": "code",
      "metadata": {
        "colab": {
          "base_uri": "https://localhost:8080/"
        },
        "id": "SdzK8XO8B4H4",
        "outputId": "ed6945c1-5c5b-464d-c5d7-4b67e4445dc3"
      },
      "source": [
        "calcula_velocidad(81,True)"
      ],
      "execution_count": 53,
      "outputs": [
        {
          "output_type": "stream",
          "name": "stdout",
          "text": [
            "Papeleta NO GRAVE\n"
          ]
        }
      ]
    },
    {
      "cell_type": "code",
      "metadata": {
        "colab": {
          "base_uri": "https://localhost:8080/"
        },
        "id": "-x08wDIgB4H5",
        "outputId": "c6050a01-d2e6-4e95-d6c1-a8a39bf8c0fe"
      },
      "source": [
        "calcula_velocidad(81,False)"
      ],
      "execution_count": 54,
      "outputs": [
        {
          "output_type": "stream",
          "name": "stdout",
          "text": [
            "Papeleta GRAVE\n"
          ]
        }
      ]
    },
    {
      "cell_type": "markdown",
      "metadata": {
        "id": "DRAmoZQaB4H5"
      },
      "source": [
        "# Buen trabajo!"
      ]
    }
  ]
}